{
 "cells": [
  {
   "cell_type": "markdown",
   "metadata": {},
   "source": [
    "Nour El Orabi \\\n",
    "Lobna Aboudoma"
   ]
  },
  {
   "cell_type": "code",
   "execution_count": 1,
   "metadata": {},
   "outputs": [],
   "source": [
    "import numpy as np\n",
    "import pandas as pd\n",
    "from random import seed\n",
    "from random import random\n",
    "import matplotlib.pyplot as plt\n",
    "import scipy.linalg as la\n",
    "from sympy import *\n",
    "import seaborn as sns\n",
    "import numpy as np\n",
    "import random\n",
    "import sklearn\n",
    "from sklearn import preprocessing"
   ]
  },
  {
   "attachments": {},
   "cell_type": "markdown",
   "metadata": {},
   "source": [
    "## <center> FACTORS AFFECTING CONVERGENCE RATE IN MARKOV CHAINS MONTE CARLO <center>"
   ]
  },
  {
   "cell_type": "markdown",
   "metadata": {},
   "source": [
    "### HELPER FUNCTIONS"
   ]
  },
  {
   "cell_type": "code",
   "execution_count": 388,
   "metadata": {},
   "outputs": [],
   "source": [
    "def print_statistics(list1, list2 , name=[0,1]):\n",
    "    df1 = pd.DataFrame(data = list1, columns = ['List1'])\n",
    "    df2 = pd.DataFrame(data = list2, columns = ['List2'])\n",
    "    d1 = df1.describe()\n",
    "    d1 = d1.iloc[:,0]\n",
    "    d2 = df2.describe()\n",
    "    d2 = d2.iloc[:,0]\n",
    "    df3 = pd.DataFrame(data = zip(d1,d2), columns = [name[0], name[1]])\n",
    "    df3 = df3.set_index(pd.Index(['Count','Mean','Stdev','Minimum','25%','50%','75%','Max']))\n",
    "    return df3"
   ]
  },
  {
   "cell_type": "code",
   "execution_count": 505,
   "metadata": {},
   "outputs": [],
   "source": [
    "def print_statistics2(list_, names):\n",
    "    a = [[]]\n",
    "    #names = ['pr0','pr1','pr2','pr3']\n",
    "    for i in range(len(names)):\n",
    "        df = pd.DataFrame(data = list_[i])\n",
    "        d = df.describe()\n",
    "        d = np.array(d.iloc[:,0])\n",
    "        d = d.tolist()\n",
    "        an_array = np.array(list_[i])\n",
    "        mean, standard_deviation  = np.mean(an_array), np.std(an_array) \n",
    "        distance_from_mean = abs(an_array - mean)\n",
    "        max_deviations = 3\n",
    "        not_outlier = distance_from_mean < max_deviations * standard_deviation\n",
    "        no_outliers = an_array[not_outlier]\n",
    "        d.append(len(list_[i])-len(no_outliers))\n",
    "        a.append(d)\n",
    "    df3 = pd.DataFrame(data = a)\n",
    "    df3 = df3.transpose()\n",
    "    df3 = df3.drop(columns = 0)\n",
    "    df3.columns = names\n",
    "    df3 = df3.set_index(pd.Index(['Count','Mean','Stdev','Minimum','25%','50%','75%','Max','Outliers']))\n",
    "    return df3\n"
   ]
  },
  {
   "cell_type": "code",
   "execution_count": 416,
   "metadata": {},
   "outputs": [],
   "source": [
    "# Removes outliers that are the 3 standard deviations away from the mean, to get a better look at the distribution\n",
    "def remove_outliers(list):\n",
    "    an_array = np.array(list)\n",
    "    mean = np.mean(an_array)\n",
    "    standard_deviation = np.std(an_array)\n",
    "    distance_from_mean = abs(an_array - mean)\n",
    "    max_deviations = 3\n",
    "    not_outlier = distance_from_mean < max_deviations * standard_deviation\n",
    "    no_outliers = an_array[not_outlier]\n",
    "    return no_outliers"
   ]
  },
  {
   "cell_type": "code",
   "execution_count": 10,
   "metadata": {},
   "outputs": [],
   "source": [
    "# Reducibility is being able to return to a state once the simulation starts\n",
    "def check_reducibility(p):\n",
    "    for i in range(len(p)):\n",
    "        if(np.count_nonzero(p[i,:]==0)>1 or np.count_nonzero(p[:,i]==0)>1):\n",
    "            return 1\n",
    "        else:\n",
    "            return 0          "
   ]
  },
  {
   "cell_type": "markdown",
   "metadata": {},
   "source": [
    "### GENERATE MATRIX AND STATE"
   ]
  },
  {
   "cell_type": "code",
   "execution_count": 7,
   "metadata": {},
   "outputs": [],
   "source": [
    "# Generates a random matrix\n",
    "def gen_matrix(n):\n",
    "    # Start off with a matrix of zeros\n",
    "    result=np.zeros((n,n))\n",
    "    # generate random numbers from a uniform distribution and add them to the matrix\n",
    "    result = result + np.random.uniform(low=2, high=5, size=(n, n))\n",
    "    # Normalize the matrix to have rows with sum = 1 for it to be a stochastic matrix\n",
    "    result = result / result.sum(axis=1, keepdims=1)\n",
    "    return result"
   ]
  },
  {
   "cell_type": "code",
   "execution_count": 44,
   "metadata": {},
   "outputs": [],
   "source": [
    "def gen_matrix2(n):\n",
    "    # Start off with a matrix of zeros\n",
    "    result = np.zeros((n,n))\n",
    "    # generate random numbers from a uniform distribution and add them to the matrix\n",
    "    result = result + np.random.uniform(low=0, high=0.25, size=(n, n))\n",
    "    # round the values in the matrix to increase the probability of getting zeros\n",
    "    result = np.around(result, decimals=1)\n",
    "    # Normalize the matrix to have rows with sum = 1 for it to be a stochastic matrix\n",
    "    result = sklearn.preprocessing.normalize(result, norm=\"l1\")\n",
    "    return result"
   ]
  },
  {
   "cell_type": "code",
   "execution_count": 55,
   "metadata": {},
   "outputs": [],
   "source": [
    "def gen_matrix3(n):\n",
    "    # create a variable that will store a random number deciding whether the matrix will be \n",
    "    aperiodic = np.random.randint(0,2)\n",
    "    result = np.zeros((n,n))\n",
    "    result = result + np.random.uniform(low=0, high=0.25, size=(n, n))\n",
    "    result = np.around(result, decimals=1)\n",
    "    if(aperiodic == 1):\n",
    "        np.fill_diagonal(result, np.zeros(n))\n",
    "    result = sklearn.preprocessing.normalize(result, norm=\"l1\")\n",
    "    return result"
   ]
  },
  {
   "cell_type": "code",
   "execution_count": 14,
   "metadata": {},
   "outputs": [],
   "source": [
    "# Generate random initial state\n",
    "def gen_state(n):\n",
    "    # takes the number of states and creates a list of zeros with the same size\n",
    "    state = [[0]*n]\n",
    "    state = np.array(state)\n",
    "    # randomly choose a position in the list as the inital state\n",
    "    state[:,np.random.randint(0,n)] = 1\n",
    "    return state"
   ]
  },
  {
   "cell_type": "markdown",
   "metadata": {},
   "source": [
    "### GET CONVERGENCE"
   ]
  },
  {
   "cell_type": "code",
   "execution_count": 15,
   "metadata": {},
   "outputs": [],
   "source": [
    "def convergence(p, state,n):\n",
    "    # User input:\n",
    "        # p: NxN Matrix\n",
    "        # state: Initial state\n",
    "        # n:Number of states \n",
    "    stateHist=state\n",
    "    #dfStateHist=pd.DataFrame(state)\n",
    "    distr_his = np.array([[0] * n])\n",
    "    #create boolean variable reached that will stay false until the difference between the distribution in two iterations\n",
    "    # is 0.00001 and i will be a counter for the number of iterations it takes to reach the stationary distribution\n",
    "    reached = False\n",
    "    i = 0\n",
    "    while(reached == False):\n",
    "        # set a limit for the number of iterations, anything greater than 2000 we will conclude that it does not converge\n",
    "        if(i>=2000):\n",
    "            return i\n",
    "        # increment the counter\n",
    "        i = i+1\n",
    "        # check the difference between the distributions in two iterations to check whether it converged or not\n",
    "        y = state-np.dot(state,p) \n",
    "        if(abs(y.all())<=0.00001):\n",
    "            reached = True\n",
    "            continue\n",
    "        # in the case that it didn't converge, multiply the curent distribution with the transition matrix \n",
    "        state=np.dot(state,p)\n",
    "        # append the new distribution to the 2d array\n",
    "        stateHist=np.append(stateHist,state,axis=0)\n",
    "        dfDistrHist = pd.DataFrame(stateHist)\n",
    "    # return the counter for the number of iterations it takes to reach the stationary distribution\n",
    "    return(i)\n"
   ]
  },
  {
   "cell_type": "markdown",
   "metadata": {},
   "source": [
    "# Factors Affecting Convergence Rate"
   ]
  },
  {
   "cell_type": "markdown",
   "metadata": {},
   "source": [
    "## 1. Multiplicity of Eigenvalues"
   ]
  },
  {
   "cell_type": "code",
   "execution_count": 706,
   "metadata": {},
   "outputs": [],
   "source": [
    "def check_multiplicity(mat):\n",
    "    # Get the eignvalues and eigenvectors from the matrix\n",
    "    values, vectors= la.eig(mat.T)\n",
    "    values = values.real\n",
    "    # Get unique values and counts\n",
    "    unique,indices,counts = np.unique(values,return_counts=True,return_index=True)\n",
    "    #Check if eigenvalues are unique by checking if the number of the unique values = number of columns in the matrix\n",
    "    # This would mean that each column has a corresponding unique eigenvalue\n",
    "    if(len(counts)==len(mat)):\n",
    "\n",
    "        return 0\n",
    "    #eigenvalues are not unique, multiplicity >1\n",
    "    else: \n",
    "        #print(counts)\n",
    "        return 1"
   ]
  },
  {
   "cell_type": "code",
   "execution_count": 718,
   "metadata": {},
   "outputs": [],
   "source": [
    "def check_multiplicity2(mat):\n",
    "    # Get the eignvalues and eigenvectors from the matrix\n",
    "    values, vectors= la.eig(mat.T)\n",
    "    values = values.real\n",
    "    # Get unique values and counts\n",
    "    unique,indices,counts = np.unique(values,return_counts=True,return_index=True)\n",
    "    #Check if eigenvalues are unique by checking if the number of the unique values = number of columns in the matrix\n",
    "    # This would mean that each column has a corresponding unique eigenvalue\n",
    "    #eigenvalues are not unique, multiplicity >1\n",
    "    if(counts[0]>1): \n",
    "        return 0\n",
    "\n",
    "    else: \n",
    "        return 1"
   ]
  },
  {
   "cell_type": "code",
   "execution_count": 763,
   "metadata": {},
   "outputs": [],
   "source": [
    "def multiplicity(n):\n",
    "    #create two empty lists to store values in \n",
    "    unique = []\n",
    "    not_unique = []\n",
    "    for i in range(1000):\n",
    "        # randomly generate a matrix and initial state\n",
    "        p = gen_matrix2(n)\n",
    "        state = gen_state(n)\n",
    "        #Check multiplicity of the eigenvalues of the matrix p\n",
    "        mult = check_multiplicity(p)\n",
    "        #Depending on whether the eigenvalues are unique or not, we will add the convergence rate to the corresponding\n",
    "        #list\n",
    "        if(mult==0):\n",
    "            unique.append(convergence(p,state,n))\n",
    "        elif(mult==1):\n",
    "            not_unique.append(convergence(p,state,n))    \n",
    "    # Plotting Distributions\n",
    "    fig, (ax1, ax2) = plt.subplots(1,2, figsize = (24, 6))\n",
    "    sns.histplot(data=remove_outliers(not_unique), ax=ax1,color='teal')\n",
    "    sns.histplot( data=remove_outliers(unique), ax=ax2,color='teal')\n",
    "    ax1.set_title('Non Unique Eigenvalues',fontsize=20)\n",
    "    ax1.set_xlabel('Convergence Point',fontsize=15)\n",
    "    ax1.set_ylabel('Count',fontsize=15)\n",
    "    ax1.grid()\n",
    "    ax2.set_title('Unique Eigenvalues',fontsize=20)\n",
    "    ax2.set_xlabel('Convergence Point',fontsize=15)\n",
    "    ax2.set_ylabel('Count',fontsize=15)\n",
    "    ax2.grid()\n",
    "    # Print statistics for the convergence points of both Unique and non-unique eigenvalues\n",
    "    return print_statistics2([not_unique], [ 'Non-Unique'])\n"
   ]
  },
  {
   "cell_type": "code",
   "execution_count": 760,
   "metadata": {
    "scrolled": false
   },
   "outputs": [
    {
     "data": {
      "text/html": [
       "<div>\n",
       "<style scoped>\n",
       "    .dataframe tbody tr th:only-of-type {\n",
       "        vertical-align: middle;\n",
       "    }\n",
       "\n",
       "    .dataframe tbody tr th {\n",
       "        vertical-align: top;\n",
       "    }\n",
       "\n",
       "    .dataframe thead th {\n",
       "        text-align: right;\n",
       "    }\n",
       "</style>\n",
       "<table border=\"1\" class=\"dataframe\">\n",
       "  <thead>\n",
       "    <tr style=\"text-align: right;\">\n",
       "      <th></th>\n",
       "      <th>Unique</th>\n",
       "      <th>Non-Unique</th>\n",
       "    </tr>\n",
       "  </thead>\n",
       "  <tbody>\n",
       "    <tr>\n",
       "      <th>Count</th>\n",
       "      <td>773.000000</td>\n",
       "      <td>227.000000</td>\n",
       "    </tr>\n",
       "    <tr>\n",
       "      <th>Mean</th>\n",
       "      <td>50.371281</td>\n",
       "      <td>15.484581</td>\n",
       "    </tr>\n",
       "    <tr>\n",
       "      <th>Stdev</th>\n",
       "      <td>226.278791</td>\n",
       "      <td>16.215187</td>\n",
       "    </tr>\n",
       "    <tr>\n",
       "      <th>Minimum</th>\n",
       "      <td>1.000000</td>\n",
       "      <td>1.000000</td>\n",
       "    </tr>\n",
       "    <tr>\n",
       "      <th>25%</th>\n",
       "      <td>1.000000</td>\n",
       "      <td>1.000000</td>\n",
       "    </tr>\n",
       "    <tr>\n",
       "      <th>50%</th>\n",
       "      <td>20.000000</td>\n",
       "      <td>4.000000</td>\n",
       "    </tr>\n",
       "    <tr>\n",
       "      <th>75%</th>\n",
       "      <td>35.000000</td>\n",
       "      <td>27.000000</td>\n",
       "    </tr>\n",
       "    <tr>\n",
       "      <th>Max</th>\n",
       "      <td>2000.000000</td>\n",
       "      <td>66.000000</td>\n",
       "    </tr>\n",
       "    <tr>\n",
       "      <th>Outliers</th>\n",
       "      <td>11.000000</td>\n",
       "      <td>1.000000</td>\n",
       "    </tr>\n",
       "  </tbody>\n",
       "</table>\n",
       "</div>"
      ],
      "text/plain": [
       "               Unique  Non-Unique\n",
       "Count      773.000000  227.000000\n",
       "Mean        50.371281   15.484581\n",
       "Stdev      226.278791   16.215187\n",
       "Minimum      1.000000    1.000000\n",
       "25%          1.000000    1.000000\n",
       "50%         20.000000    4.000000\n",
       "75%         35.000000   27.000000\n",
       "Max       2000.000000   66.000000\n",
       "Outliers    11.000000    1.000000"
      ]
     },
     "execution_count": 760,
     "metadata": {},
     "output_type": "execute_result"
    },
    {
     "data": {
      "image/png": "[encoded data removed]",
      "text/plain": [
       "<Figure size 1728x432 with 2 Axes>"
      ]
     },
     "metadata": {
      "needs_background": "light"
     },
     "output_type": "display_data"
    }
   ],
   "source": [
    "multiplicity(3)  #multiplicity function with state or matrix size of 6  "
   ]
  },
  {
   "cell_type": "code",
   "execution_count": 761,
   "metadata": {},
   "outputs": [
    {
     "data": {
      "text/html": [
       "<div>\n",
       "<style scoped>\n",
       "    .dataframe tbody tr th:only-of-type {\n",
       "        vertical-align: middle;\n",
       "    }\n",
       "\n",
       "    .dataframe tbody tr th {\n",
       "        vertical-align: top;\n",
       "    }\n",
       "\n",
       "    .dataframe thead th {\n",
       "        text-align: right;\n",
       "    }\n",
       "</style>\n",
       "<table border=\"1\" class=\"dataframe\">\n",
       "  <thead>\n",
       "    <tr style=\"text-align: right;\">\n",
       "      <th></th>\n",
       "      <th>Unique</th>\n",
       "      <th>Non-Unique</th>\n",
       "    </tr>\n",
       "  </thead>\n",
       "  <tbody>\n",
       "    <tr>\n",
       "      <th>Count</th>\n",
       "      <td>43.000000</td>\n",
       "      <td>957.000000</td>\n",
       "    </tr>\n",
       "    <tr>\n",
       "      <th>Mean</th>\n",
       "      <td>11.395349</td>\n",
       "      <td>9.703239</td>\n",
       "    </tr>\n",
       "    <tr>\n",
       "      <th>Stdev</th>\n",
       "      <td>14.568622</td>\n",
       "      <td>13.011088</td>\n",
       "    </tr>\n",
       "    <tr>\n",
       "      <th>Minimum</th>\n",
       "      <td>1.000000</td>\n",
       "      <td>1.000000</td>\n",
       "    </tr>\n",
       "    <tr>\n",
       "      <th>25%</th>\n",
       "      <td>1.000000</td>\n",
       "      <td>1.000000</td>\n",
       "    </tr>\n",
       "    <tr>\n",
       "      <th>50%</th>\n",
       "      <td>1.000000</td>\n",
       "      <td>1.000000</td>\n",
       "    </tr>\n",
       "    <tr>\n",
       "      <th>75%</th>\n",
       "      <td>27.500000</td>\n",
       "      <td>24.000000</td>\n",
       "    </tr>\n",
       "    <tr>\n",
       "      <th>Max</th>\n",
       "      <td>41.000000</td>\n",
       "      <td>65.000000</td>\n",
       "    </tr>\n",
       "    <tr>\n",
       "      <th>Outliers</th>\n",
       "      <td>0.000000</td>\n",
       "      <td>2.000000</td>\n",
       "    </tr>\n",
       "  </tbody>\n",
       "</table>\n",
       "</div>"
      ],
      "text/plain": [
       "             Unique  Non-Unique\n",
       "Count     43.000000  957.000000\n",
       "Mean      11.395349    9.703239\n",
       "Stdev     14.568622   13.011088\n",
       "Minimum    1.000000    1.000000\n",
       "25%        1.000000    1.000000\n",
       "50%        1.000000    1.000000\n",
       "75%       27.500000   24.000000\n",
       "Max       41.000000   65.000000\n",
       "Outliers   0.000000    2.000000"
      ]
     },
     "execution_count": 761,
     "metadata": {},
     "output_type": "execute_result"
    },
    {
     "data": {
      "image/png": "[encoded data removed]",
      "text/plain": [
       "<Figure size 1728x432 with 2 Axes>"
      ]
     },
     "metadata": {
      "needs_background": "light"
     },
     "output_type": "display_data"
    }
   ],
   "source": [
    "multiplicity(6) #multiplicity function with state or matrix size of 3  "
   ]
  },
  {
   "cell_type": "code",
   "execution_count": 764,
   "metadata": {},
   "outputs": [
    {
     "name": "stderr",
     "output_type": "stream",
     "text": [
      "/Users/lobna/opt/anaconda3/lib/python3.8/site-packages/numpy/core/fromnumeric.py:3372: RuntimeWarning: Mean of empty slice.\n",
      "  return _methods._mean(a, axis=axis, dtype=dtype,\n",
      "/Users/lobna/opt/anaconda3/lib/python3.8/site-packages/numpy/core/_methods.py:170: RuntimeWarning: invalid value encountered in double_scalars\n",
      "  ret = ret.dtype.type(ret / rcount)\n",
      "/Users/lobna/opt/anaconda3/lib/python3.8/site-packages/numpy/core/_methods.py:233: RuntimeWarning: Degrees of freedom <= 0 for slice\n",
      "  ret = _var(a, axis=axis, dtype=dtype, out=out, ddof=ddof,\n",
      "/Users/lobna/opt/anaconda3/lib/python3.8/site-packages/numpy/core/_methods.py:194: RuntimeWarning: invalid value encountered in true_divide\n",
      "  arrmean = um.true_divide(\n",
      "/Users/lobna/opt/anaconda3/lib/python3.8/site-packages/numpy/core/_methods.py:226: RuntimeWarning: invalid value encountered in double_scalars\n",
      "  ret = ret.dtype.type(ret / rcount)\n"
     ]
    },
    {
     "data": {
      "text/html": [
       "<div>\n",
       "<style scoped>\n",
       "    .dataframe tbody tr th:only-of-type {\n",
       "        vertical-align: middle;\n",
       "    }\n",
       "\n",
       "    .dataframe tbody tr th {\n",
       "        vertical-align: top;\n",
       "    }\n",
       "\n",
       "    .dataframe thead th {\n",
       "        text-align: right;\n",
       "    }\n",
       "</style>\n",
       "<table border=\"1\" class=\"dataframe\">\n",
       "  <thead>\n",
       "    <tr style=\"text-align: right;\">\n",
       "      <th></th>\n",
       "      <th>Non-Unique</th>\n",
       "    </tr>\n",
       "  </thead>\n",
       "  <tbody>\n",
       "    <tr>\n",
       "      <th>Count</th>\n",
       "      <td>1000.000000</td>\n",
       "    </tr>\n",
       "    <tr>\n",
       "      <th>Mean</th>\n",
       "      <td>3.849000</td>\n",
       "    </tr>\n",
       "    <tr>\n",
       "      <th>Stdev</th>\n",
       "      <td>7.486404</td>\n",
       "    </tr>\n",
       "    <tr>\n",
       "      <th>Minimum</th>\n",
       "      <td>1.000000</td>\n",
       "    </tr>\n",
       "    <tr>\n",
       "      <th>25%</th>\n",
       "      <td>1.000000</td>\n",
       "    </tr>\n",
       "    <tr>\n",
       "      <th>50%</th>\n",
       "      <td>1.000000</td>\n",
       "    </tr>\n",
       "    <tr>\n",
       "      <th>75%</th>\n",
       "      <td>1.000000</td>\n",
       "    </tr>\n",
       "    <tr>\n",
       "      <th>Max</th>\n",
       "      <td>30.000000</td>\n",
       "    </tr>\n",
       "    <tr>\n",
       "      <th>Outliers</th>\n",
       "      <td>14.000000</td>\n",
       "    </tr>\n",
       "  </tbody>\n",
       "</table>\n",
       "</div>"
      ],
      "text/plain": [
       "           Non-Unique\n",
       "Count     1000.000000\n",
       "Mean         3.849000\n",
       "Stdev        7.486404\n",
       "Minimum      1.000000\n",
       "25%          1.000000\n",
       "50%          1.000000\n",
       "75%          1.000000\n",
       "Max         30.000000\n",
       "Outliers    14.000000"
      ]
     },
     "execution_count": 764,
     "metadata": {},
     "output_type": "execute_result"
    },
    {
     "data": {
      "image/png": "[encoded data removed]",
      "text/plain": [
       "<Figure size 1728x432 with 2 Axes>"
      ]
     },
     "metadata": {
      "needs_background": "light"
     },
     "output_type": "display_data"
    }
   ],
   "source": [
    "multiplicity(10)  #multiplicity function with state or matrix size of 10"
   ]
  },
  {
   "cell_type": "markdown",
   "metadata": {},
   "source": [
    "## 2. Effect of Irreducibility on Convergence"
   ]
  },
  {
   "cell_type": "code",
   "execution_count": 592,
   "metadata": {},
   "outputs": [],
   "source": [
    "def check_irreducible(mat):\n",
    "    mp = matrix_power(gen_matrix2(3), 4)\n",
    "    return np.count_nonzero(mp == 0)"
   ]
  },
  {
   "cell_type": "code",
   "execution_count": 615,
   "metadata": {},
   "outputs": [],
   "source": [
    "def irreducible(n):\n",
    "    #create two empty lists to store values in \n",
    "    reducible_ = []\n",
    "    irreducible_ = []\n",
    "    for i in range(1000):\n",
    "        # randomly generate a matrix and initial state\n",
    "        p = gen_matrix2(n)\n",
    "        state = gen_state(n)\n",
    "        red = check_irreducible(p)\n",
    "        if(red==0):\n",
    "            irreducible_.append(convergence(p,state,n))\n",
    "        elif(red!=0):\n",
    "            reducible_.append(convergence(p,state,n))\n",
    "    print_statistics(reducible_, irreducible_, ['Reducible', 'Irreducible'])\n",
    "    fig, (ax1, ax2) = plt.subplots(1,2, figsize = (24, 6))\n",
    "    sns.histplot(data=remove_outliers(reducible_), ax=ax1,color='teal')\n",
    "    sns.histplot( data=remove_outliers(irreducible_), ax=ax2,color='teal')\n",
    "    ax1.set_title('Reducible',fontsize=20)\n",
    "    ax1.set_xlabel('Convergence Point',fontsize=15)\n",
    "    ax1.set_ylabel('Count',fontsize=15)\n",
    "    ax1.grid()\n",
    "    ax2.set_title('Irreducible',fontsize=20)\n",
    "    ax2.set_xlabel('Convergence Point',fontsize=15)\n",
    "    ax2.set_ylabel('Count',fontsize=15)\n",
    "    ax2.grid()\n",
    "    fig.suptitle(\"Convergence Point of Reducible vs Irreducible \\nMarkov Chains \\n \", fontsize = 20)\n",
    "    return print_statistics2([reducible_,irreducible_],['Reducible', 'Irreducible'])"
   ]
  },
  {
   "cell_type": "code",
   "execution_count": 624,
   "metadata": {},
   "outputs": [
    {
     "data": {
      "text/html": [
       "<div>\n",
       "<style scoped>\n",
       "    .dataframe tbody tr th:only-of-type {\n",
       "        vertical-align: middle;\n",
       "    }\n",
       "\n",
       "    .dataframe tbody tr th {\n",
       "        vertical-align: top;\n",
       "    }\n",
       "\n",
       "    .dataframe thead th {\n",
       "        text-align: right;\n",
       "    }\n",
       "</style>\n",
       "<table border=\"1\" class=\"dataframe\">\n",
       "  <thead>\n",
       "    <tr style=\"text-align: right;\">\n",
       "      <th></th>\n",
       "      <th>Reducible</th>\n",
       "      <th>Irreducible</th>\n",
       "    </tr>\n",
       "  </thead>\n",
       "  <tbody>\n",
       "    <tr>\n",
       "      <th>Count</th>\n",
       "      <td>180.000000</td>\n",
       "      <td>820.000000</td>\n",
       "    </tr>\n",
       "    <tr>\n",
       "      <th>Mean</th>\n",
       "      <td>40.511111</td>\n",
       "      <td>49.290244</td>\n",
       "    </tr>\n",
       "    <tr>\n",
       "      <th>Stdev</th>\n",
       "      <td>195.170417</td>\n",
       "      <td>232.021664</td>\n",
       "    </tr>\n",
       "    <tr>\n",
       "      <th>Minimum</th>\n",
       "      <td>1.000000</td>\n",
       "      <td>1.000000</td>\n",
       "    </tr>\n",
       "    <tr>\n",
       "      <th>25%</th>\n",
       "      <td>1.000000</td>\n",
       "      <td>1.000000</td>\n",
       "    </tr>\n",
       "    <tr>\n",
       "      <th>50%</th>\n",
       "      <td>14.500000</td>\n",
       "      <td>16.000000</td>\n",
       "    </tr>\n",
       "    <tr>\n",
       "      <th>75%</th>\n",
       "      <td>29.000000</td>\n",
       "      <td>33.000000</td>\n",
       "    </tr>\n",
       "    <tr>\n",
       "      <th>Max</th>\n",
       "      <td>2000.000000</td>\n",
       "      <td>2000.000000</td>\n",
       "    </tr>\n",
       "    <tr>\n",
       "      <th>Outliers</th>\n",
       "      <td>3.000000</td>\n",
       "      <td>14.000000</td>\n",
       "    </tr>\n",
       "  </tbody>\n",
       "</table>\n",
       "</div>"
      ],
      "text/plain": [
       "            Reducible  Irreducible\n",
       "Count      180.000000   820.000000\n",
       "Mean        40.511111    49.290244\n",
       "Stdev      195.170417   232.021664\n",
       "Minimum      1.000000     1.000000\n",
       "25%          1.000000     1.000000\n",
       "50%         14.500000    16.000000\n",
       "75%         29.000000    33.000000\n",
       "Max       2000.000000  2000.000000\n",
       "Outliers     3.000000    14.000000"
      ]
     },
     "execution_count": 624,
     "metadata": {},
     "output_type": "execute_result"
    },
    {
     "data": {
      "image/png": "[encoded data removed]",
      "text/plain": [
       "<Figure size 1728x432 with 2 Axes>"
      ]
     },
     "metadata": {
      "needs_background": "light"
     },
     "output_type": "display_data"
    }
   ],
   "source": [
    "irreducible(3)  #irreducible function with state or matrix size of 3  "
   ]
  },
  {
   "cell_type": "code",
   "execution_count": 632,
   "metadata": {},
   "outputs": [
    {
     "data": {
      "text/html": [
       "<div>\n",
       "<style scoped>\n",
       "    .dataframe tbody tr th:only-of-type {\n",
       "        vertical-align: middle;\n",
       "    }\n",
       "\n",
       "    .dataframe tbody tr th {\n",
       "        vertical-align: top;\n",
       "    }\n",
       "\n",
       "    .dataframe thead th {\n",
       "        text-align: right;\n",
       "    }\n",
       "</style>\n",
       "<table border=\"1\" class=\"dataframe\">\n",
       "  <thead>\n",
       "    <tr style=\"text-align: right;\">\n",
       "      <th></th>\n",
       "      <th>Reducible</th>\n",
       "      <th>Irreducible</th>\n",
       "    </tr>\n",
       "  </thead>\n",
       "  <tbody>\n",
       "    <tr>\n",
       "      <th>Count</th>\n",
       "      <td>197.000000</td>\n",
       "      <td>803.000000</td>\n",
       "    </tr>\n",
       "    <tr>\n",
       "      <th>Mean</th>\n",
       "      <td>9.390863</td>\n",
       "      <td>8.494396</td>\n",
       "    </tr>\n",
       "    <tr>\n",
       "      <th>Stdev</th>\n",
       "      <td>12.495898</td>\n",
       "      <td>13.264089</td>\n",
       "    </tr>\n",
       "    <tr>\n",
       "      <th>Minimum</th>\n",
       "      <td>1.000000</td>\n",
       "      <td>1.000000</td>\n",
       "    </tr>\n",
       "    <tr>\n",
       "      <th>25%</th>\n",
       "      <td>1.000000</td>\n",
       "      <td>1.000000</td>\n",
       "    </tr>\n",
       "    <tr>\n",
       "      <th>50%</th>\n",
       "      <td>1.000000</td>\n",
       "      <td>1.000000</td>\n",
       "    </tr>\n",
       "    <tr>\n",
       "      <th>75%</th>\n",
       "      <td>23.000000</td>\n",
       "      <td>21.000000</td>\n",
       "    </tr>\n",
       "    <tr>\n",
       "      <th>Max</th>\n",
       "      <td>41.000000</td>\n",
       "      <td>135.000000</td>\n",
       "    </tr>\n",
       "    <tr>\n",
       "      <th>Outliers</th>\n",
       "      <td>0.000000</td>\n",
       "      <td>5.000000</td>\n",
       "    </tr>\n",
       "  </tbody>\n",
       "</table>\n",
       "</div>"
      ],
      "text/plain": [
       "           Reducible  Irreducible\n",
       "Count     197.000000   803.000000\n",
       "Mean        9.390863     8.494396\n",
       "Stdev      12.495898    13.264089\n",
       "Minimum     1.000000     1.000000\n",
       "25%         1.000000     1.000000\n",
       "50%         1.000000     1.000000\n",
       "75%        23.000000    21.000000\n",
       "Max        41.000000   135.000000\n",
       "Outliers    0.000000     5.000000"
      ]
     },
     "execution_count": 632,
     "metadata": {},
     "output_type": "execute_result"
    },
    {
     "data": {
      "image/png": "[encoded data removed]",
      "text/plain": [
       "<Figure size 1728x432 with 2 Axes>"
      ]
     },
     "metadata": {
      "needs_background": "light"
     },
     "output_type": "display_data"
    }
   ],
   "source": [
    "irreducible(6)  #irreducible function with state or matrix size of 6"
   ]
  },
  {
   "cell_type": "code",
   "execution_count": 633,
   "metadata": {},
   "outputs": [
    {
     "data": {
      "text/html": [
       "<div>\n",
       "<style scoped>\n",
       "    .dataframe tbody tr th:only-of-type {\n",
       "        vertical-align: middle;\n",
       "    }\n",
       "\n",
       "    .dataframe tbody tr th {\n",
       "        vertical-align: top;\n",
       "    }\n",
       "\n",
       "    .dataframe thead th {\n",
       "        text-align: right;\n",
       "    }\n",
       "</style>\n",
       "<table border=\"1\" class=\"dataframe\">\n",
       "  <thead>\n",
       "    <tr style=\"text-align: right;\">\n",
       "      <th></th>\n",
       "      <th>Reducible</th>\n",
       "      <th>Irreducible</th>\n",
       "    </tr>\n",
       "  </thead>\n",
       "  <tbody>\n",
       "    <tr>\n",
       "      <th>Count</th>\n",
       "      <td>170.000000</td>\n",
       "      <td>830.000000</td>\n",
       "    </tr>\n",
       "    <tr>\n",
       "      <th>Mean</th>\n",
       "      <td>4.464706</td>\n",
       "      <td>4.045783</td>\n",
       "    </tr>\n",
       "    <tr>\n",
       "      <th>Stdev</th>\n",
       "      <td>8.025215</td>\n",
       "      <td>7.835789</td>\n",
       "    </tr>\n",
       "    <tr>\n",
       "      <th>Minimum</th>\n",
       "      <td>1.000000</td>\n",
       "      <td>1.000000</td>\n",
       "    </tr>\n",
       "    <tr>\n",
       "      <th>25%</th>\n",
       "      <td>1.000000</td>\n",
       "      <td>1.000000</td>\n",
       "    </tr>\n",
       "    <tr>\n",
       "      <th>50%</th>\n",
       "      <td>1.000000</td>\n",
       "      <td>1.000000</td>\n",
       "    </tr>\n",
       "    <tr>\n",
       "      <th>75%</th>\n",
       "      <td>1.000000</td>\n",
       "      <td>1.000000</td>\n",
       "    </tr>\n",
       "    <tr>\n",
       "      <th>Max</th>\n",
       "      <td>26.000000</td>\n",
       "      <td>40.000000</td>\n",
       "    </tr>\n",
       "    <tr>\n",
       "      <th>Outliers</th>\n",
       "      <td>0.000000</td>\n",
       "      <td>10.000000</td>\n",
       "    </tr>\n",
       "  </tbody>\n",
       "</table>\n",
       "</div>"
      ],
      "text/plain": [
       "           Reducible  Irreducible\n",
       "Count     170.000000   830.000000\n",
       "Mean        4.464706     4.045783\n",
       "Stdev       8.025215     7.835789\n",
       "Minimum     1.000000     1.000000\n",
       "25%         1.000000     1.000000\n",
       "50%         1.000000     1.000000\n",
       "75%         1.000000     1.000000\n",
       "Max        26.000000    40.000000\n",
       "Outliers    0.000000    10.000000"
      ]
     },
     "execution_count": 633,
     "metadata": {},
     "output_type": "execute_result"
    },
    {
     "data": {
      "image/png": "[encoded data removed]",
      "text/plain": [
       "<Figure size 1728x432 with 2 Axes>"
      ]
     },
     "metadata": {
      "needs_background": "light"
     },
     "output_type": "display_data"
    }
   ],
   "source": [
    "irreducible(10)  #irreducible function with state or matrix size of 10"
   ]
  },
  {
   "cell_type": "markdown",
   "metadata": {},
   "source": [
    "## 3. Periodic Versus Aperiodic"
   ]
  },
  {
   "cell_type": "code",
   "execution_count": 364,
   "metadata": {},
   "outputs": [],
   "source": [
    "def get_periodicity(mat):\n",
    "    # Create an empty list to store the period of each state in\n",
    "    periods = []\n",
    "    # Loop over the number of states\n",
    "    for i in range(len(mat)):\n",
    "        period = 0\n",
    "        # If there exists a path from the state returning to the same state, then its period is 1\n",
    "        if(mat[i,i]!=0):\n",
    "            periods.append(1)\n",
    "            continue\n",
    "        # Check if the sum of the column is 0 then there exists no path returning to the state, \n",
    "        # hence period is undefined\n",
    "        elif((mat[:,i].sum(axis=0)==0)):\n",
    "            periods.append(0)\n",
    "            continue\n",
    "        # Check the connected states if they return back to the state in interest -- i\n",
    "        else:\n",
    "            # Get the indices of the non-zero values in the row of the state in interest -i- and store them in an array\n",
    "            y = np.array(np.nonzero(np.array(mat[i,:])))\n",
    "            y= y[0,:]\n",
    "            # Loop over the connected states and check their corresponding row in the matrix \n",
    "            for x in y:\n",
    "                # If the neighboring state is connected to i, then the period is 2 \n",
    "                if(mat[x,i]!=0):\n",
    "                    periods.append(2)\n",
    "                    break\n",
    "                    continue\n",
    "            # If the period isn't undefined, 1 , or 2, then the period is 3\n",
    "            else: \n",
    "                periods.append(3)\n",
    "                continue\n",
    "    # Return the number of transient states, that have undefined periods\n",
    "    return np.count_nonzero(np.array(periods) == 1)"
   ]
  },
  {
   "cell_type": "code",
   "execution_count": 585,
   "metadata": {},
   "outputs": [],
   "source": [
    "def periodic():\n",
    "    #create two empty lists to store values in \n",
    "    pr0 = []\n",
    "    pr1 = []\n",
    "    pr2 = []\n",
    "    pr3 = []\n",
    "    for i in range(1000):\n",
    "        # randomly generate a matrix and initial state\n",
    "        p = gen_matrix2(3)\n",
    "        state = gen_state(3)\n",
    "        pr = get_periodicity(p)\n",
    "       # perds = [0,1,2,3]\n",
    "      #  indices = [i for i, s in enumerate(perds) if pr in s   \n",
    "        if(pr==0):\n",
    "            pr0.append(convergence(p,state,3))\n",
    "        elif(pr==1):\n",
    "            pr1.append(convergence(p,state,3))\n",
    "        elif(pr==2):\n",
    "            pr2.append(convergence(p,state,3))\n",
    "        elif(pr==3):\n",
    "            pr3.append(convergence(p,state,3))            \n",
    "    \n",
    "    fig, ((ax1, ax2), (ax3,ax4)) = plt.subplots(2, 2, figsize = (15, 10))\n",
    "    sns.histplot(data=remove_outliers(pr0), ax=ax1,color='teal')\n",
    "    sns.histplot( data=remove_outliers(pr1), ax=ax2,color='teal')\n",
    "    sns.histplot(data = remove_outliers(pr2), ax=ax3, color='teal')\n",
    "    sns.histplot(data = remove_outliers(pr3), ax=ax4, color='teal')\n",
    "    ax1.set_title('0 Aperiodic States',fontsize=20)\n",
    "    ax1.set_xlabel('Convergence Point',fontsize=15)\n",
    "    ax1.set_ylabel('Count',fontsize=15)\n",
    "    ax1.grid()\n",
    "    ax2.set_title('1 Aperiodic State',fontsize=20)\n",
    "    ax2.set_xlabel('Convergence Point',fontsize=15)\n",
    "    ax2.set_ylabel('Count',fontsize=15)\n",
    "    ax2.grid()\n",
    "    ax3.set_title('2 Aperiodic States',fontsize=20)\n",
    "    ax3.set_xlabel('Convergence Point',fontsize=15)\n",
    "    ax3.set_ylabel('Count',fontsize=15)\n",
    "    ax4.set_title('Aperiodic Chain',fontsize=20)\n",
    "    ax4.set_xlabel('Convergence Point',fontsize=15)\n",
    "    ax4.set_ylabel('Count',fontsize=15)\n",
    "    fig.suptitle(\"Point of Convergence of Markov Chains with \\n Varying Number of Aperiodic States \\n \", fontsize = 20)\n",
    "    fig.tight_layout()\n",
    "    ax4.grid()\n",
    "    ax3.grid()\n",
    "    return print_statistics2([pr0, pr1, pr2, pr3], ['0 States','1 State','2 States','Aperiodic'])\n",
    "    "
   ]
  },
  {
   "cell_type": "code",
   "execution_count": 637,
   "metadata": {},
   "outputs": [
    {
     "data": {
      "text/html": [
       "<div>\n",
       "<style scoped>\n",
       "    .dataframe tbody tr th:only-of-type {\n",
       "        vertical-align: middle;\n",
       "    }\n",
       "\n",
       "    .dataframe tbody tr th {\n",
       "        vertical-align: top;\n",
       "    }\n",
       "\n",
       "    .dataframe thead th {\n",
       "        text-align: right;\n",
       "    }\n",
       "</style>\n",
       "<table border=\"1\" class=\"dataframe\">\n",
       "  <thead>\n",
       "    <tr style=\"text-align: right;\">\n",
       "      <th></th>\n",
       "      <th>0 States</th>\n",
       "      <th>1 State</th>\n",
       "      <th>2 States</th>\n",
       "      <th>Aperiodic</th>\n",
       "    </tr>\n",
       "  </thead>\n",
       "  <tbody>\n",
       "    <tr>\n",
       "      <th>Count</th>\n",
       "      <td>8.000000</td>\n",
       "      <td>95.000000</td>\n",
       "      <td>401.000000</td>\n",
       "      <td>496.000000</td>\n",
       "    </tr>\n",
       "    <tr>\n",
       "      <th>Mean</th>\n",
       "      <td>159.125000</td>\n",
       "      <td>156.842105</td>\n",
       "      <td>64.950125</td>\n",
       "      <td>22.235887</td>\n",
       "    </tr>\n",
       "    <tr>\n",
       "      <th>Stdev</th>\n",
       "      <td>278.026945</td>\n",
       "      <td>446.211411</td>\n",
       "      <td>281.017717</td>\n",
       "      <td>93.180691</td>\n",
       "    </tr>\n",
       "    <tr>\n",
       "      <th>Minimum</th>\n",
       "      <td>1.000000</td>\n",
       "      <td>1.000000</td>\n",
       "      <td>1.000000</td>\n",
       "      <td>1.000000</td>\n",
       "    </tr>\n",
       "    <tr>\n",
       "      <th>25%</th>\n",
       "      <td>28.250000</td>\n",
       "      <td>1.000000</td>\n",
       "      <td>1.000000</td>\n",
       "      <td>1.000000</td>\n",
       "    </tr>\n",
       "    <tr>\n",
       "      <th>50%</th>\n",
       "      <td>63.500000</td>\n",
       "      <td>2.000000</td>\n",
       "      <td>22.000000</td>\n",
       "      <td>16.000000</td>\n",
       "    </tr>\n",
       "    <tr>\n",
       "      <th>75%</th>\n",
       "      <td>113.500000</td>\n",
       "      <td>56.500000</td>\n",
       "      <td>37.000000</td>\n",
       "      <td>25.000000</td>\n",
       "    </tr>\n",
       "    <tr>\n",
       "      <th>Max</th>\n",
       "      <td>832.000000</td>\n",
       "      <td>2000.000000</td>\n",
       "      <td>2000.000000</td>\n",
       "      <td>2000.000000</td>\n",
       "    </tr>\n",
       "    <tr>\n",
       "      <th>Outliers</th>\n",
       "      <td>0.000000</td>\n",
       "      <td>5.000000</td>\n",
       "      <td>9.000000</td>\n",
       "      <td>2.000000</td>\n",
       "    </tr>\n",
       "  </tbody>\n",
       "</table>\n",
       "</div>"
      ],
      "text/plain": [
       "            0 States      1 State     2 States    Aperiodic\n",
       "Count       8.000000    95.000000   401.000000   496.000000\n",
       "Mean      159.125000   156.842105    64.950125    22.235887\n",
       "Stdev     278.026945   446.211411   281.017717    93.180691\n",
       "Minimum     1.000000     1.000000     1.000000     1.000000\n",
       "25%        28.250000     1.000000     1.000000     1.000000\n",
       "50%        63.500000     2.000000    22.000000    16.000000\n",
       "75%       113.500000    56.500000    37.000000    25.000000\n",
       "Max       832.000000  2000.000000  2000.000000  2000.000000\n",
       "Outliers    0.000000     5.000000     9.000000     2.000000"
      ]
     },
     "execution_count": 637,
     "metadata": {},
     "output_type": "execute_result"
    },
    {
     "data": {
      "image/png": "[encoded data removed]",
      "text/plain": [
       "<Figure size 1080x720 with 4 Axes>"
      ]
     },
     "metadata": {
      "needs_background": "light"
     },
     "output_type": "display_data"
    }
   ],
   "source": [
    "periodic()  #periodic function "
   ]
  },
  {
   "cell_type": "markdown",
   "metadata": {},
   "source": [
    "## Transient Versus Recurrent"
   ]
  },
  {
   "cell_type": "code",
   "execution_count": 131,
   "metadata": {},
   "outputs": [],
   "source": [
    "def check_transient(mat):\n",
    "    # Loop on all states to check if all states are connected, if there exists one unconnected state then transient\n",
    "    for i in range(len(mat)):\n",
    "        for j in range(len(mat)):\n",
    "            if(check_connected(mat, i,j)==False):\n",
    "                return 1\n",
    "    return 0"
   ]
  },
  {
   "cell_type": "code",
   "execution_count": 651,
   "metadata": {},
   "outputs": [],
   "source": [
    "def check_connected(mat, i, j):\n",
    "    if((mat[:,i].sum(axis=0)==0)):\n",
    "        return False\n",
    "    if(mat[i,j]!=0.0):\n",
    "        return True\n",
    "    else:\n",
    "        y = np.array(np.nonzero(np.array(mat[i,:])))\n",
    "        y= y[0,:]\n",
    "        for x in y:\n",
    "            if(mat[x,j]!=0):\n",
    "                return True\n",
    "            \n",
    "    return False"
   ]
  },
  {
   "cell_type": "code",
   "execution_count": 647,
   "metadata": {},
   "outputs": [],
   "source": [
    "def transient_count(mat):\n",
    "    # Create an empty list to store the period of each state in\n",
    "    periods = []\n",
    "    # Loop over the number of states\n",
    "    for i in range(len(mat)):\n",
    "        period = 0\n",
    "        # If there exists a path from the state returning to the same state, then its period is 1\n",
    "        if(mat[i,i]!=0):\n",
    "            periods.append(1)\n",
    "            continue\n",
    "        # Check if the sum of the column is 0 then there exists no path returning to the state, \n",
    "        # hence period is undefined\n",
    "        elif((mat[:,i].sum(axis=0)==0)):\n",
    "            periods.append(0)\n",
    "            continue\n",
    "        # Check the connected states if they return back to the state in interest -- i\n",
    "        else:\n",
    "            # Get the indices of the non-zero values in the row of the state in interest -i- and store them in an array\n",
    "            y = np.array(np.nonzero(np.array(mat[i,:])))\n",
    "            y= y[0,:]\n",
    "            # Loop over the connected states and check their corresponding row in the matrix \n",
    "            for x in y:\n",
    "                # If the neighboring state is connected to i, then the period is 2 \n",
    "                if(mat[x,i]!=0):\n",
    "                    periods.append(2)\n",
    "                    break\n",
    "                    continue\n",
    "            # If the period isn't undefined, 1 , or 2, then the period is 3\n",
    "            else: \n",
    "                periods.append(3)\n",
    "                continue\n",
    "    # Return the number of transient states, that have undefined periods\n",
    "    return np.count_nonzero(np.array(periods) == 0)"
   ]
  },
  {
   "cell_type": "code",
   "execution_count": 656,
   "metadata": {},
   "outputs": [],
   "source": [
    "def transient(n):\n",
    "    #create two empty lists to store values in \n",
    "    tr1 = []\n",
    "    recurrent = []\n",
    "    for i in range(1000):\n",
    "        # randomly generate a matrix and initial state\n",
    "        p = gen_matrix2(n)\n",
    "        state = gen_state(n)\n",
    "        tr = transient_count(p)\n",
    "        #tr = check_transient(p)\n",
    "        if(tr==0):\n",
    "            recurrent.append(convergence(p,state,n))\n",
    "        elif(tr!=0):\n",
    "            tr1.append(convergence(p,state,n))\n",
    "    fig, (ax1, ax2) = plt.subplots(1, 2, figsize = (20, 6))\n",
    "    sns.histplot(data=remove_outliers(tr1), ax=ax1,color='teal')\n",
    "    sns.histplot(data = remove_outliers(recurrent), ax=ax2, color='teal')\n",
    "    ax1.set_title('Transient Chain',fontsize=20)\n",
    "    ax1.set_xlabel('Convergence Point',fontsize=15)\n",
    "    ax1.set_ylabel('Count',fontsize=15)\n",
    "    ax1.grid()\n",
    "    ax2.set_title('Recurrent Chain',fontsize=20)\n",
    "    ax2.set_xlabel('Convergence Point',fontsize=15)\n",
    "    ax2.set_ylabel('Count',fontsize=15)\n",
    "    ax2.grid()\n",
    "    fig.suptitle(\"Point of Convergence of Markov Chains with Transient State \\n Versus All Recurrent States\\n\", fontsize = 20)\n",
    "    fig.tight_layout()\n",
    "    return print_statistics2([tr1, recurrent], ['Transient','Recurrent'])\n"
   ]
  },
  {
   "cell_type": "code",
   "execution_count": 658,
   "metadata": {},
   "outputs": [
    {
     "data": {
      "text/html": [
       "<div>\n",
       "<style scoped>\n",
       "    .dataframe tbody tr th:only-of-type {\n",
       "        vertical-align: middle;\n",
       "    }\n",
       "\n",
       "    .dataframe tbody tr th {\n",
       "        vertical-align: top;\n",
       "    }\n",
       "\n",
       "    .dataframe thead th {\n",
       "        text-align: right;\n",
       "    }\n",
       "</style>\n",
       "<table border=\"1\" class=\"dataframe\">\n",
       "  <thead>\n",
       "    <tr style=\"text-align: right;\">\n",
       "      <th></th>\n",
       "      <th>Transient</th>\n",
       "      <th>Recurrent</th>\n",
       "    </tr>\n",
       "  </thead>\n",
       "  <tbody>\n",
       "    <tr>\n",
       "      <th>Count</th>\n",
       "      <td>27.000000</td>\n",
       "      <td>973.000000</td>\n",
       "    </tr>\n",
       "    <tr>\n",
       "      <th>Mean</th>\n",
       "      <td>1.111111</td>\n",
       "      <td>50.772867</td>\n",
       "    </tr>\n",
       "    <tr>\n",
       "      <th>Stdev</th>\n",
       "      <td>0.320256</td>\n",
       "      <td>235.312660</td>\n",
       "    </tr>\n",
       "    <tr>\n",
       "      <th>Minimum</th>\n",
       "      <td>1.000000</td>\n",
       "      <td>1.000000</td>\n",
       "    </tr>\n",
       "    <tr>\n",
       "      <th>25%</th>\n",
       "      <td>1.000000</td>\n",
       "      <td>1.000000</td>\n",
       "    </tr>\n",
       "    <tr>\n",
       "      <th>50%</th>\n",
       "      <td>1.000000</td>\n",
       "      <td>17.000000</td>\n",
       "    </tr>\n",
       "    <tr>\n",
       "      <th>75%</th>\n",
       "      <td>1.000000</td>\n",
       "      <td>31.000000</td>\n",
       "    </tr>\n",
       "    <tr>\n",
       "      <th>Max</th>\n",
       "      <td>2.000000</td>\n",
       "      <td>2000.000000</td>\n",
       "    </tr>\n",
       "    <tr>\n",
       "      <th>Outliers</th>\n",
       "      <td>0.000000</td>\n",
       "      <td>17.000000</td>\n",
       "    </tr>\n",
       "  </tbody>\n",
       "</table>\n",
       "</div>"
      ],
      "text/plain": [
       "          Transient    Recurrent\n",
       "Count     27.000000   973.000000\n",
       "Mean       1.111111    50.772867\n",
       "Stdev      0.320256   235.312660\n",
       "Minimum    1.000000     1.000000\n",
       "25%        1.000000     1.000000\n",
       "50%        1.000000    17.000000\n",
       "75%        1.000000    31.000000\n",
       "Max        2.000000  2000.000000\n",
       "Outliers   0.000000    17.000000"
      ]
     },
     "execution_count": 658,
     "metadata": {},
     "output_type": "execute_result"
    },
    {
     "data": {
      "image/png": "[encoded data removed]",
      "text/plain": [
       "<Figure size 1440x432 with 2 Axes>"
      ]
     },
     "metadata": {
      "needs_background": "light"
     },
     "output_type": "display_data"
    }
   ],
   "source": [
    "transient(3)  #transient function with state or matrix size of 3  "
   ]
  }
 ],
 "metadata": {
  "kernelspec": {
   "display_name": "Python 3",
   "language": "python",
   "name": "python3"
  },
  "language_info": {
   "codemirror_mode": {
    "name": "ipython",
    "version": 3
   },
   "file_extension": ".py",
   "mimetype": "text/x-python",
   "name": "python",
   "nbconvert_exporter": "python",
   "pygments_lexer": "ipython3",
   "version": "3.8.5"
  }
 },
 "nbformat": 4,
 "nbformat_minor": 5
}
